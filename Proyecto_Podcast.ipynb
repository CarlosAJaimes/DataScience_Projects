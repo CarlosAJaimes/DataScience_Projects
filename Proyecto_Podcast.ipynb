{
  "nbformat": 4,
  "nbformat_minor": 0,
  "metadata": {
    "colab": {
      "provenance": []
    },
    "kernelspec": {
      "name": "python3",
      "display_name": "Python 3"
    },
    "language_info": {
      "name": "python"
    }
  },
  "cells": [
    {
      "cell_type": "markdown",
      "source": [
        "# *Proyecto Podcast* 🎤 🎧"
      ],
      "metadata": {
        "id": "Kp4-PvJys3-0"
      }
    },
    {
      "cell_type": "markdown",
      "source": [
        "## **Parte 1**"
      ],
      "metadata": {
        "id": "eD-JZtzWhaB6"
      }
    },
    {
      "cell_type": "markdown",
      "source": [
        "Queremos explorar el potencial de crear un podcast como proyecto personal, dejando a través del notebook varias consideraciones que pueden darle enfoque al proyecto (tema y nicho objetivo, por ejemplo) y los análisis dirigidos a encontrar el valor dentro dataset para darnos las mejores resultados.\n",
        "\n",
        "*Partimos de un dataset de Kaggle.com sobre el comportamiento de los usuarios de Spotify, una de las mayores plataformas para consumo de Podcasts en el mundo.*\n",
        "\n",
        "**> ¿Qué otras plataformas podemos explorar?**"
      ],
      "metadata": {
        "id": "9ZJ6fr34P5hD"
      }
    },
    {
      "cell_type": "code",
      "execution_count": null,
      "metadata": {
        "id": "JQOsnaU6PklW"
      },
      "outputs": [],
      "source": [
        "#librerias\n",
        "import pandas as pd\n",
        "import matplotlib.pyplot as plt\n",
        "import seaborn as sns"
      ]
    },
    {
      "cell_type": "code",
      "source": [
        "#dataframe spotify\n",
        "spotify = pd.read_excel('Spotify_data.xlsx')\n",
        "spotify.head()"
      ],
      "metadata": {
        "colab": {
          "base_uri": "https://localhost:8080/",
          "height": 313
        },
        "id": "hy_rW9iJSQN1",
        "outputId": "4dee531a-d061-4c04-8458-493f936fa4f8"
      },
      "execution_count": null,
      "outputs": [
        {
          "output_type": "execute_result",
          "data": {
            "text/plain": [
              "     Age  Gender spotify_usage_period  \\\n",
              "0  20-35  Female    More than 2 years   \n",
              "1  12-20    Male    More than 2 years   \n",
              "2  35-60  Others   6 months to 1 year   \n",
              "3  20-35  Female    1 year to 2 years   \n",
              "4  20-35  Female    1 year to 2 years   \n",
              "\n",
              "                         spotify_listening_device spotify_subscription_plan  \\\n",
              "0              Smart speakers or voice assistants       Free (ad-supported)   \n",
              "1                              Computer or laptop       Free (ad-supported)   \n",
              "2              Smart speakers or voice assistants       Free (ad-supported)   \n",
              "3  Smartphone, Smart speakers or voice assistants       Free (ad-supported)   \n",
              "4                                      Smartphone       Free (ad-supported)   \n",
              "\n",
              "  premium_sub_willingness          preffered_premium_plan  \\\n",
              "0                     Yes        Family Plan-Rs 179/month   \n",
              "1                     Yes  Individual Plan- Rs 119/ month   \n",
              "2                     Yes        Student Plan-Rs 59/month   \n",
              "3                      No                            None   \n",
              "4                      No                            None   \n",
              "\n",
              "  preferred_listening_content fav_music_genre music_time_slot  \\\n",
              "0                     Podcast          Melody           Night   \n",
              "1                     Podcast             Rap       Afternoon   \n",
              "2                     Podcast             Pop           Night   \n",
              "3                       Music          Melody           Night   \n",
              "4                       Music          Melody           Night   \n",
              "\n",
              "                              music_Influencial_mood  \\\n",
              "0                              Sadness or melancholy   \n",
              "1                       Social gatherings or parties   \n",
              "2                       Relaxation and stress relief   \n",
              "3  Relaxation and stress relief, Social gathering...   \n",
              "4                       Relaxation and stress relief   \n",
              "\n",
              "                           music_lis_frequency           music_expl_method  \\\n",
              "0                                 leisure time                   Playlists   \n",
              "1                              Workout session                   Playlists   \n",
              "2                 Study Hours, While Traveling                   Playlists   \n",
              "3  Office hours, Workout session, leisure time  recommendations, Playlists   \n",
              "4                                 leisure time  recommendations, Playlists   \n",
              "\n",
              "   music_recc_rating     pod_lis_frequency         fav_pod_genre  \\\n",
              "0                  3                 Daily                Comedy   \n",
              "1                  2  Several times a week                Comedy   \n",
              "2                  4           Once a week                Sports   \n",
              "3                  4                 Never                  None   \n",
              "4                  4                Rarely  Lifestyle and Health   \n",
              "\n",
              "  preffered_pod_format     pod_host_preference preffered_pod_duration  \\\n",
              "0            Interview                    Both                   Both   \n",
              "1            Interview                    Both                   None   \n",
              "2            Interview                    None                   Both   \n",
              "3                 None                    None                   None   \n",
              "4        Story telling  Well known individuals                   Both   \n",
              "\n",
              "  pod_variety_satisfaction  \n",
              "0                       Ok  \n",
              "1                Satisfied  \n",
              "2                Satisfied  \n",
              "3                       Ok  \n",
              "4                       Ok  "
            ],
            "text/html": [
              "\n",
              "  <div id=\"df-b00c5c39-b7da-4415-8792-870f9e265ecd\" class=\"colab-df-container\">\n",
              "    <div>\n",
              "<style scoped>\n",
              "    .dataframe tbody tr th:only-of-type {\n",
              "        vertical-align: middle;\n",
              "    }\n",
              "\n",
              "    .dataframe tbody tr th {\n",
              "        vertical-align: top;\n",
              "    }\n",
              "\n",
              "    .dataframe thead th {\n",
              "        text-align: right;\n",
              "    }\n",
              "</style>\n",
              "<table border=\"1\" class=\"dataframe\">\n",
              "  <thead>\n",
              "    <tr style=\"text-align: right;\">\n",
              "      <th></th>\n",
              "      <th>Age</th>\n",
              "      <th>Gender</th>\n",
              "      <th>spotify_usage_period</th>\n",
              "      <th>spotify_listening_device</th>\n",
              "      <th>spotify_subscription_plan</th>\n",
              "      <th>premium_sub_willingness</th>\n",
              "      <th>preffered_premium_plan</th>\n",
              "      <th>preferred_listening_content</th>\n",
              "      <th>fav_music_genre</th>\n",
              "      <th>music_time_slot</th>\n",
              "      <th>music_Influencial_mood</th>\n",
              "      <th>music_lis_frequency</th>\n",
              "      <th>music_expl_method</th>\n",
              "      <th>music_recc_rating</th>\n",
              "      <th>pod_lis_frequency</th>\n",
              "      <th>fav_pod_genre</th>\n",
              "      <th>preffered_pod_format</th>\n",
              "      <th>pod_host_preference</th>\n",
              "      <th>preffered_pod_duration</th>\n",
              "      <th>pod_variety_satisfaction</th>\n",
              "    </tr>\n",
              "  </thead>\n",
              "  <tbody>\n",
              "    <tr>\n",
              "      <th>0</th>\n",
              "      <td>20-35</td>\n",
              "      <td>Female</td>\n",
              "      <td>More than 2 years</td>\n",
              "      <td>Smart speakers or voice assistants</td>\n",
              "      <td>Free (ad-supported)</td>\n",
              "      <td>Yes</td>\n",
              "      <td>Family Plan-Rs 179/month</td>\n",
              "      <td>Podcast</td>\n",
              "      <td>Melody</td>\n",
              "      <td>Night</td>\n",
              "      <td>Sadness or melancholy</td>\n",
              "      <td>leisure time</td>\n",
              "      <td>Playlists</td>\n",
              "      <td>3</td>\n",
              "      <td>Daily</td>\n",
              "      <td>Comedy</td>\n",
              "      <td>Interview</td>\n",
              "      <td>Both</td>\n",
              "      <td>Both</td>\n",
              "      <td>Ok</td>\n",
              "    </tr>\n",
              "    <tr>\n",
              "      <th>1</th>\n",
              "      <td>12-20</td>\n",
              "      <td>Male</td>\n",
              "      <td>More than 2 years</td>\n",
              "      <td>Computer or laptop</td>\n",
              "      <td>Free (ad-supported)</td>\n",
              "      <td>Yes</td>\n",
              "      <td>Individual Plan- Rs 119/ month</td>\n",
              "      <td>Podcast</td>\n",
              "      <td>Rap</td>\n",
              "      <td>Afternoon</td>\n",
              "      <td>Social gatherings or parties</td>\n",
              "      <td>Workout session</td>\n",
              "      <td>Playlists</td>\n",
              "      <td>2</td>\n",
              "      <td>Several times a week</td>\n",
              "      <td>Comedy</td>\n",
              "      <td>Interview</td>\n",
              "      <td>Both</td>\n",
              "      <td>None</td>\n",
              "      <td>Satisfied</td>\n",
              "    </tr>\n",
              "    <tr>\n",
              "      <th>2</th>\n",
              "      <td>35-60</td>\n",
              "      <td>Others</td>\n",
              "      <td>6 months to 1 year</td>\n",
              "      <td>Smart speakers or voice assistants</td>\n",
              "      <td>Free (ad-supported)</td>\n",
              "      <td>Yes</td>\n",
              "      <td>Student Plan-Rs 59/month</td>\n",
              "      <td>Podcast</td>\n",
              "      <td>Pop</td>\n",
              "      <td>Night</td>\n",
              "      <td>Relaxation and stress relief</td>\n",
              "      <td>Study Hours, While Traveling</td>\n",
              "      <td>Playlists</td>\n",
              "      <td>4</td>\n",
              "      <td>Once a week</td>\n",
              "      <td>Sports</td>\n",
              "      <td>Interview</td>\n",
              "      <td>None</td>\n",
              "      <td>Both</td>\n",
              "      <td>Satisfied</td>\n",
              "    </tr>\n",
              "    <tr>\n",
              "      <th>3</th>\n",
              "      <td>20-35</td>\n",
              "      <td>Female</td>\n",
              "      <td>1 year to 2 years</td>\n",
              "      <td>Smartphone, Smart speakers or voice assistants</td>\n",
              "      <td>Free (ad-supported)</td>\n",
              "      <td>No</td>\n",
              "      <td>None</td>\n",
              "      <td>Music</td>\n",
              "      <td>Melody</td>\n",
              "      <td>Night</td>\n",
              "      <td>Relaxation and stress relief, Social gathering...</td>\n",
              "      <td>Office hours, Workout session, leisure time</td>\n",
              "      <td>recommendations, Playlists</td>\n",
              "      <td>4</td>\n",
              "      <td>Never</td>\n",
              "      <td>None</td>\n",
              "      <td>None</td>\n",
              "      <td>None</td>\n",
              "      <td>None</td>\n",
              "      <td>Ok</td>\n",
              "    </tr>\n",
              "    <tr>\n",
              "      <th>4</th>\n",
              "      <td>20-35</td>\n",
              "      <td>Female</td>\n",
              "      <td>1 year to 2 years</td>\n",
              "      <td>Smartphone</td>\n",
              "      <td>Free (ad-supported)</td>\n",
              "      <td>No</td>\n",
              "      <td>None</td>\n",
              "      <td>Music</td>\n",
              "      <td>Melody</td>\n",
              "      <td>Night</td>\n",
              "      <td>Relaxation and stress relief</td>\n",
              "      <td>leisure time</td>\n",
              "      <td>recommendations, Playlists</td>\n",
              "      <td>4</td>\n",
              "      <td>Rarely</td>\n",
              "      <td>Lifestyle and Health</td>\n",
              "      <td>Story telling</td>\n",
              "      <td>Well known individuals</td>\n",
              "      <td>Both</td>\n",
              "      <td>Ok</td>\n",
              "    </tr>\n",
              "  </tbody>\n",
              "</table>\n",
              "</div>\n",
              "    <div class=\"colab-df-buttons\">\n",
              "\n",
              "  <div class=\"colab-df-container\">\n",
              "    <button class=\"colab-df-convert\" onclick=\"convertToInteractive('df-b00c5c39-b7da-4415-8792-870f9e265ecd')\"\n",
              "            title=\"Convert this dataframe to an interactive table.\"\n",
              "            style=\"display:none;\">\n",
              "\n",
              "  <svg xmlns=\"http://www.w3.org/2000/svg\" height=\"24px\" viewBox=\"0 -960 960 960\">\n",
              "    <path d=\"M120-120v-720h720v720H120Zm60-500h600v-160H180v160Zm220 220h160v-160H400v160Zm0 220h160v-160H400v160ZM180-400h160v-160H180v160Zm440 0h160v-160H620v160ZM180-180h160v-160H180v160Zm440 0h160v-160H620v160Z\"/>\n",
              "  </svg>\n",
              "    </button>\n",
              "\n",
              "  <style>\n",
              "    .colab-df-container {\n",
              "      display:flex;\n",
              "      gap: 12px;\n",
              "    }\n",
              "\n",
              "    .colab-df-convert {\n",
              "      background-color: #E8F0FE;\n",
              "      border: none;\n",
              "      border-radius: 50%;\n",
              "      cursor: pointer;\n",
              "      display: none;\n",
              "      fill: #1967D2;\n",
              "      height: 32px;\n",
              "      padding: 0 0 0 0;\n",
              "      width: 32px;\n",
              "    }\n",
              "\n",
              "    .colab-df-convert:hover {\n",
              "      background-color: #E2EBFA;\n",
              "      box-shadow: 0px 1px 2px rgba(60, 64, 67, 0.3), 0px 1px 3px 1px rgba(60, 64, 67, 0.15);\n",
              "      fill: #174EA6;\n",
              "    }\n",
              "\n",
              "    .colab-df-buttons div {\n",
              "      margin-bottom: 4px;\n",
              "    }\n",
              "\n",
              "    [theme=dark] .colab-df-convert {\n",
              "      background-color: #3B4455;\n",
              "      fill: #D2E3FC;\n",
              "    }\n",
              "\n",
              "    [theme=dark] .colab-df-convert:hover {\n",
              "      background-color: #434B5C;\n",
              "      box-shadow: 0px 1px 3px 1px rgba(0, 0, 0, 0.15);\n",
              "      filter: drop-shadow(0px 1px 2px rgba(0, 0, 0, 0.3));\n",
              "      fill: #FFFFFF;\n",
              "    }\n",
              "  </style>\n",
              "\n",
              "    <script>\n",
              "      const buttonEl =\n",
              "        document.querySelector('#df-b00c5c39-b7da-4415-8792-870f9e265ecd button.colab-df-convert');\n",
              "      buttonEl.style.display =\n",
              "        google.colab.kernel.accessAllowed ? 'block' : 'none';\n",
              "\n",
              "      async function convertToInteractive(key) {\n",
              "        const element = document.querySelector('#df-b00c5c39-b7da-4415-8792-870f9e265ecd');\n",
              "        const dataTable =\n",
              "          await google.colab.kernel.invokeFunction('convertToInteractive',\n",
              "                                                    [key], {});\n",
              "        if (!dataTable) return;\n",
              "\n",
              "        const docLinkHtml = 'Like what you see? Visit the ' +\n",
              "          '<a target=\"_blank\" href=https://colab.research.google.com/notebooks/data_table.ipynb>data table notebook</a>'\n",
              "          + ' to learn more about interactive tables.';\n",
              "        element.innerHTML = '';\n",
              "        dataTable['output_type'] = 'display_data';\n",
              "        await google.colab.output.renderOutput(dataTable, element);\n",
              "        const docLink = document.createElement('div');\n",
              "        docLink.innerHTML = docLinkHtml;\n",
              "        element.appendChild(docLink);\n",
              "      }\n",
              "    </script>\n",
              "  </div>\n",
              "\n",
              "\n",
              "<div id=\"df-e73fed15-799c-4112-97af-92fbadafc750\">\n",
              "  <button class=\"colab-df-quickchart\" onclick=\"quickchart('df-e73fed15-799c-4112-97af-92fbadafc750')\"\n",
              "            title=\"Suggest charts\"\n",
              "            style=\"display:none;\">\n",
              "\n",
              "<svg xmlns=\"http://www.w3.org/2000/svg\" height=\"24px\"viewBox=\"0 0 24 24\"\n",
              "     width=\"24px\">\n",
              "    <g>\n",
              "        <path d=\"M19 3H5c-1.1 0-2 .9-2 2v14c0 1.1.9 2 2 2h14c1.1 0 2-.9 2-2V5c0-1.1-.9-2-2-2zM9 17H7v-7h2v7zm4 0h-2V7h2v10zm4 0h-2v-4h2v4z\"/>\n",
              "    </g>\n",
              "</svg>\n",
              "  </button>\n",
              "\n",
              "<style>\n",
              "  .colab-df-quickchart {\n",
              "      --bg-color: #E8F0FE;\n",
              "      --fill-color: #1967D2;\n",
              "      --hover-bg-color: #E2EBFA;\n",
              "      --hover-fill-color: #174EA6;\n",
              "      --disabled-fill-color: #AAA;\n",
              "      --disabled-bg-color: #DDD;\n",
              "  }\n",
              "\n",
              "  [theme=dark] .colab-df-quickchart {\n",
              "      --bg-color: #3B4455;\n",
              "      --fill-color: #D2E3FC;\n",
              "      --hover-bg-color: #434B5C;\n",
              "      --hover-fill-color: #FFFFFF;\n",
              "      --disabled-bg-color: #3B4455;\n",
              "      --disabled-fill-color: #666;\n",
              "  }\n",
              "\n",
              "  .colab-df-quickchart {\n",
              "    background-color: var(--bg-color);\n",
              "    border: none;\n",
              "    border-radius: 50%;\n",
              "    cursor: pointer;\n",
              "    display: none;\n",
              "    fill: var(--fill-color);\n",
              "    height: 32px;\n",
              "    padding: 0;\n",
              "    width: 32px;\n",
              "  }\n",
              "\n",
              "  .colab-df-quickchart:hover {\n",
              "    background-color: var(--hover-bg-color);\n",
              "    box-shadow: 0 1px 2px rgba(60, 64, 67, 0.3), 0 1px 3px 1px rgba(60, 64, 67, 0.15);\n",
              "    fill: var(--button-hover-fill-color);\n",
              "  }\n",
              "\n",
              "  .colab-df-quickchart-complete:disabled,\n",
              "  .colab-df-quickchart-complete:disabled:hover {\n",
              "    background-color: var(--disabled-bg-color);\n",
              "    fill: var(--disabled-fill-color);\n",
              "    box-shadow: none;\n",
              "  }\n",
              "\n",
              "  .colab-df-spinner {\n",
              "    border: 2px solid var(--fill-color);\n",
              "    border-color: transparent;\n",
              "    border-bottom-color: var(--fill-color);\n",
              "    animation:\n",
              "      spin 1s steps(1) infinite;\n",
              "  }\n",
              "\n",
              "  @keyframes spin {\n",
              "    0% {\n",
              "      border-color: transparent;\n",
              "      border-bottom-color: var(--fill-color);\n",
              "      border-left-color: var(--fill-color);\n",
              "    }\n",
              "    20% {\n",
              "      border-color: transparent;\n",
              "      border-left-color: var(--fill-color);\n",
              "      border-top-color: var(--fill-color);\n",
              "    }\n",
              "    30% {\n",
              "      border-color: transparent;\n",
              "      border-left-color: var(--fill-color);\n",
              "      border-top-color: var(--fill-color);\n",
              "      border-right-color: var(--fill-color);\n",
              "    }\n",
              "    40% {\n",
              "      border-color: transparent;\n",
              "      border-right-color: var(--fill-color);\n",
              "      border-top-color: var(--fill-color);\n",
              "    }\n",
              "    60% {\n",
              "      border-color: transparent;\n",
              "      border-right-color: var(--fill-color);\n",
              "    }\n",
              "    80% {\n",
              "      border-color: transparent;\n",
              "      border-right-color: var(--fill-color);\n",
              "      border-bottom-color: var(--fill-color);\n",
              "    }\n",
              "    90% {\n",
              "      border-color: transparent;\n",
              "      border-bottom-color: var(--fill-color);\n",
              "    }\n",
              "  }\n",
              "</style>\n",
              "\n",
              "  <script>\n",
              "    async function quickchart(key) {\n",
              "      const quickchartButtonEl =\n",
              "        document.querySelector('#' + key + ' button');\n",
              "      quickchartButtonEl.disabled = true;  // To prevent multiple clicks.\n",
              "      quickchartButtonEl.classList.add('colab-df-spinner');\n",
              "      try {\n",
              "        const charts = await google.colab.kernel.invokeFunction(\n",
              "            'suggestCharts', [key], {});\n",
              "      } catch (error) {\n",
              "        console.error('Error during call to suggestCharts:', error);\n",
              "      }\n",
              "      quickchartButtonEl.classList.remove('colab-df-spinner');\n",
              "      quickchartButtonEl.classList.add('colab-df-quickchart-complete');\n",
              "    }\n",
              "    (() => {\n",
              "      let quickchartButtonEl =\n",
              "        document.querySelector('#df-e73fed15-799c-4112-97af-92fbadafc750 button');\n",
              "      quickchartButtonEl.style.display =\n",
              "        google.colab.kernel.accessAllowed ? 'block' : 'none';\n",
              "    })();\n",
              "  </script>\n",
              "</div>\n",
              "    </div>\n",
              "  </div>\n"
            ]
          },
          "metadata": {},
          "execution_count": 2
        }
      ]
    },
    {
      "cell_type": "code",
      "source": [
        "#Análisis inicial\n",
        "spotify.shape #filas x columnas"
      ],
      "metadata": {
        "colab": {
          "base_uri": "https://localhost:8080/"
        },
        "id": "1wLn0VifS8Au",
        "outputId": "342ffa00-068a-433e-eca2-a49750117bec"
      },
      "execution_count": null,
      "outputs": [
        {
          "output_type": "execute_result",
          "data": {
            "text/plain": [
              "(520, 20)"
            ]
          },
          "metadata": {},
          "execution_count": 3
        }
      ]
    },
    {
      "cell_type": "code",
      "source": [
        "#valores nan y tipos de dato\n",
        "spotify.info()"
      ],
      "metadata": {
        "colab": {
          "base_uri": "https://localhost:8080/"
        },
        "id": "Ai4Le0SCTg2f",
        "outputId": "f2095ca2-2458-4d7b-c43e-6067f76bf05c"
      },
      "execution_count": null,
      "outputs": [
        {
          "output_type": "stream",
          "name": "stdout",
          "text": [
            "<class 'pandas.core.frame.DataFrame'>\n",
            "RangeIndex: 520 entries, 0 to 519\n",
            "Data columns (total 20 columns):\n",
            " #   Column                       Non-Null Count  Dtype \n",
            "---  ------                       --------------  ----- \n",
            " 0   Age                          520 non-null    object\n",
            " 1   Gender                       520 non-null    object\n",
            " 2   spotify_usage_period         520 non-null    object\n",
            " 3   spotify_listening_device     520 non-null    object\n",
            " 4   spotify_subscription_plan    520 non-null    object\n",
            " 5   premium_sub_willingness      520 non-null    object\n",
            " 6   preffered_premium_plan       520 non-null    object\n",
            " 7   preferred_listening_content  520 non-null    object\n",
            " 8   fav_music_genre              520 non-null    object\n",
            " 9   music_time_slot              520 non-null    object\n",
            " 10  music_Influencial_mood       520 non-null    object\n",
            " 11  music_lis_frequency          520 non-null    object\n",
            " 12  music_expl_method            520 non-null    object\n",
            " 13  music_recc_rating            520 non-null    int64 \n",
            " 14  pod_lis_frequency            520 non-null    object\n",
            " 15  fav_pod_genre                520 non-null    object\n",
            " 16  preffered_pod_format         520 non-null    object\n",
            " 17  pod_host_preference          520 non-null    object\n",
            " 18  preffered_pod_duration       520 non-null    object\n",
            " 19  pod_variety_satisfaction     520 non-null    object\n",
            "dtypes: int64(1), object(19)\n",
            "memory usage: 81.4+ KB\n"
          ]
        }
      ]
    },
    {
      "cell_type": "markdown",
      "source": [
        "Primeras observaciones:\n",
        "\n",
        "*> El conjunto de datos tiene 520 filas y 20 columnas*\n",
        "\n",
        "*> Ninguna columna tiene valores nulos*\n",
        "\n",
        "*> Hay campos que están relacionados con el comportamiento de consumo de música, lo cual no hace parte de nuestro análisis actual*\n",
        "\n",
        "*> La mayoría de los campos son de valores categóricos*"
      ],
      "metadata": {
        "id": "oSvV7O7qT3aK"
      }
    },
    {
      "cell_type": "markdown",
      "source": [
        "**Exploración por campo de valor**"
      ],
      "metadata": {
        "id": "FKhCxG5IVbIa"
      }
    },
    {
      "cell_type": "code",
      "source": [
        "#Age\n",
        "nrangos = spotify['Age'].nunique()\n",
        "\n",
        "print(f'El dataset incluye {nrangos} rangos de edad:')\n",
        "\n",
        "#rangos\n",
        "'''rangos = spotify['Age'].unique()\n",
        "for rango in rangos:\n",
        "  print(rango)'''\n",
        "\n",
        "#Distribución del campo 'Age'\n",
        "plt.hist(spotify['Age'], color='green', edgecolor='darkgray')\n",
        "plt.xlabel('Rango de edad')\n",
        "plt.ylabel('Frecuencia')\n",
        "plt.title(f'Histograma de Edades');"
      ],
      "metadata": {
        "colab": {
          "base_uri": "https://localhost:8080/",
          "height": 490
        },
        "id": "woXB8TOeVfNa",
        "outputId": "3f430c72-7c0e-44ea-8316-82499a2b5694"
      },
      "execution_count": null,
      "outputs": [
        {
          "output_type": "stream",
          "name": "stdout",
          "text": [
            "El dataset incluye 5 rangos de edad:\n"
          ]
        },
        {
          "output_type": "display_data",
          "data": {
            "text/plain": [
              "<Figure size 640x480 with 1 Axes>"
            ],
            "image/png": "[encoded data removed]"
          },
          "metadata": {}
        }
      ]
    },
    {
      "cell_type": "markdown",
      "source": [
        "+400/520 usuarios de Spotify captados se encuentran en el rango entre 20-35 años, intervalo objetivo de nuestro análisis para un potencial proyecto.\n",
        "\n",
        "**> ¿Con esta muestra de datos es posible afirmar que, el mayor porcentaje de usuarios de Spotify están dentro de estas edades?**"
      ],
      "metadata": {
        "id": "dJRB8W-QYxWm"
      }
    },
    {
      "cell_type": "code",
      "source": [
        "import numpy as np"
      ],
      "metadata": {
        "id": "By-H-V0CatUY"
      },
      "execution_count": null,
      "outputs": []
    },
    {
      "cell_type": "code",
      "source": [
        "#Gender\n",
        "#spotify.columns\n",
        "\n",
        "generos = spotify['Gender'].unique()\n",
        "print(f'Los géneros identificados en el dataset son: {generos}')"
      ],
      "metadata": {
        "colab": {
          "base_uri": "https://localhost:8080/"
        },
        "id": "SYzp3hOAZmm5",
        "outputId": "0a47a005-29c5-4eb1-a1ff-68e8cf97d6d3"
      },
      "execution_count": null,
      "outputs": [
        {
          "output_type": "stream",
          "name": "stdout",
          "text": [
            "Los géneros identificados en el dataset son: ['Female' 'Male' 'Others']\n"
          ]
        }
      ]
    },
    {
      "cell_type": "code",
      "source": [
        "#Gender vs. Age\n",
        "sns.histplot(data=spotify, x=\"Age\", hue=\"Gender\", multiple=\"stack\");"
      ],
      "metadata": {
        "colab": {
          "base_uri": "https://localhost:8080/",
          "height": 449
        },
        "id": "T38XDvPmbTr0",
        "outputId": "83f1f633-3825-4872-e225-12156225d1e2"
      },
      "execution_count": null,
      "outputs": [
        {
          "output_type": "display_data",
          "data": {
            "text/plain": [
              "<Figure size 640x480 with 1 Axes>"
            ],
            "image/png": "[encoded data removed]"
          },
          "metadata": {}
        }
      ]
    },
    {
      "cell_type": "markdown",
      "source": [
        "La proporción de mujeres es considerablemente mayor para todos los rangos de edad, puntualmente para uno de los rangos objetivo, entre 20-35 años.\n",
        "\n",
        "Para un potencial proyecto de Podcast, en esta plataforma inicialmente, **sería relevante explorar las preferencias de consumo de las mujeres**."
      ],
      "metadata": {
        "id": "i4olwZtBfeWs"
      }
    },
    {
      "cell_type": "code",
      "source": [
        "#spotify_usage_period\n",
        "#spotify.columns\n",
        "spotify['spotify_usage_period'].unique()"
      ],
      "metadata": {
        "colab": {
          "base_uri": "https://localhost:8080/"
        },
        "id": "gWaehAWwggHw",
        "outputId": "97ad521a-1e9c-413e-8059-d0fc6e358658"
      },
      "execution_count": null,
      "outputs": [
        {
          "output_type": "execute_result",
          "data": {
            "text/plain": [
              "array(['More than 2 years', '6 months to 1 year', '1 year to 2 years',\n",
              "       'Less than 6 months'], dtype=object)"
            ]
          },
          "metadata": {},
          "execution_count": 9
        }
      ]
    },
    {
      "cell_type": "markdown",
      "source": [
        "El tiempo de uso de la plataforma, relacionado con el formato 'Podcast', podría darnos un indicio de que tipo de proyecto podría ser más efectivo para la muestra; como ejemplo, se podría proponer un podcast con una duración máxima a la que la mayoría de usuarios consumen este formato; lo anterior, traducido en potencial consumo y en generación de ganancias.\n",
        "\n",
        "**Este análisis está inconcluso aún.**"
      ],
      "metadata": {
        "id": "Fv09dUaBhXwX"
      }
    },
    {
      "cell_type": "code",
      "source": [
        "#spotify_listening_device\n",
        "#spotify.columns\n",
        "\n",
        "dispositivos = spotify['spotify_listening_device'].unique()\n",
        "for dispo in dispositivos:\n",
        "  print(dispo)"
      ],
      "metadata": {
        "colab": {
          "base_uri": "https://localhost:8080/"
        },
        "id": "Tno8-pQxiIkr",
        "outputId": "e8b3f19e-5faa-4c06-924a-dcf492ae69dd"
      },
      "execution_count": null,
      "outputs": [
        {
          "output_type": "stream",
          "name": "stdout",
          "text": [
            "Smart speakers or voice assistants\n",
            "Computer or laptop\n",
            "Smartphone, Smart speakers or voice assistants\n",
            "Smartphone\n",
            "Smartphone, Computer or laptop\n",
            "Smartphone, Computer or laptop, Smart speakers or voice assistants\n",
            "Smartphone, Wearable devices\n",
            "Smartphone, Computer or laptop, Wearable devices\n",
            "Computer or laptop, Wearable devices\n",
            "Smartphone, Computer or laptop, Smart speakers or voice assistants, Wearable devices\n",
            "Wearable devices\n",
            "Smartphone, Smart speakers or voice assistants, Wearable devices\n",
            "Computer or laptop, Smart speakers or voice assistants\n",
            "Computer or laptop, Smart speakers or voice assistants, Wearable devices\n",
            "Smart speakers or voice assistants, Wearable devices\n"
          ]
        }
      ]
    },
    {
      "cell_type": "markdown",
      "source": [
        "El campo de valores presenta 15 diferentes categorías; algunas pueden agrupar más de un tipo de dispositivo, por lo que es necesario evaluar a profundidad soluciones efectivas para su adecuado análisis.\n",
        "\n",
        "**Este análisis está inconcluso aún**"
      ],
      "metadata": {
        "id": "Hf3cyv3mkRCA"
      }
    },
    {
      "cell_type": "code",
      "source": [
        "#spotify_subscription_plan\n",
        "#spotify.columns\n",
        "\n",
        "planes = spotify['spotify_subscription_plan'].value_counts()\n",
        "planes"
      ],
      "metadata": {
        "colab": {
          "base_uri": "https://localhost:8080/"
        },
        "id": "M2GpNswCkwFM",
        "outputId": "282cc4af-e83f-4ebb-c150-a736de10ee1b"
      },
      "execution_count": null,
      "outputs": [
        {
          "output_type": "execute_result",
          "data": {
            "text/plain": [
              "Free (ad-supported)            424\n",
              "Premium (paid subscription)     96\n",
              "Name: spotify_subscription_plan, dtype: int64"
            ]
          },
          "metadata": {},
          "execution_count": 11
        }
      ]
    },
    {
      "cell_type": "markdown",
      "source": [
        "Esta columna nos permite evidenciar la proporción de usuarios con suscripción Premium a Spotify, la cual es considerablemente menor, cercana al 20% del total de inputs.\n",
        "\n",
        "Esto valores llevan a reflexionar lo siguiente, como usuarios:\n",
        "\n",
        "**> ¿Qué implicaciones traería para un usuario 'Free' o 'Premium' el querer acceder a un podcast de la plataforma? ¿Tiene acceso libre a todo el contenido, requiere pagar alguna suscripción general o individual?**\n",
        "\n",
        "Y cómo creador del formato:\n",
        "\n",
        "**> ¿De qué fuentes vienen las ganancias de un podcast en Spotify? ¿Anuncios, cómo cuando pasamos canciones siendo 'Free', por ejemplo?**"
      ],
      "metadata": {
        "id": "tBBpO_wzoGCc"
      }
    },
    {
      "cell_type": "markdown",
      "source": [
        "**Continuará** 🚧 🧑 🎧"
      ],
      "metadata": {
        "id": "Tj6t2I9hrVch"
      }
    },
    {
      "cell_type": "markdown",
      "source": [
        "## **Parte 2**"
      ],
      "metadata": {
        "id": "AtX2u0PIzaEr"
      }
    },
    {
      "cell_type": "code",
      "source": [
        "#spotify.columns"
      ],
      "metadata": {
        "id": "W9TENiLQziEm"
      },
      "execution_count": null,
      "outputs": []
    },
    {
      "cell_type": "markdown",
      "source": [
        "> Los siguientes campos de valor relacionados con la suscripción a la plataforma serán abordados en conjunto, para resolver las cuestiones rescatadas al finalizar la Parte 1 del EDA.\n",
        "\n",
        "  > *spotify_subscription_plan*\n",
        "\n",
        "  > *premium_sub_willingness*\n",
        "\n",
        "  > *preffered_premium_plan*"
      ],
      "metadata": {
        "id": "tvH79-ym0aWI"
      }
    },
    {
      "cell_type": "markdown",
      "source": [
        "**Continuamos con la exploración de campos**"
      ],
      "metadata": {
        "id": "_gyxF5kx1H4-"
      }
    },
    {
      "cell_type": "code",
      "source": [
        "spotify.columns"
      ],
      "metadata": {
        "colab": {
          "base_uri": "https://localhost:8080/"
        },
        "id": "jn0h46-F25rf",
        "outputId": "e6ef1850-5a5f-4e26-da28-e012046a2927"
      },
      "execution_count": null,
      "outputs": [
        {
          "output_type": "execute_result",
          "data": {
            "text/plain": [
              "Index(['Age', 'Gender', 'spotify_usage_period', 'spotify_listening_device',\n",
              "       'spotify_subscription_plan', 'premium_sub_willingness',\n",
              "       'preffered_premium_plan', 'preferred_listening_content',\n",
              "       'fav_music_genre', 'music_time_slot', 'music_Influencial_mood',\n",
              "       'music_lis_frequency', 'music_expl_method', 'music_recc_rating',\n",
              "       'pod_lis_frequency', 'fav_pod_genre', 'preffered_pod_format',\n",
              "       'pod_host_preference', 'preffered_pod_duration',\n",
              "       'pod_variety_satisfaction'],\n",
              "      dtype='object')"
            ]
          },
          "metadata": {},
          "execution_count": 13
        }
      ]
    },
    {
      "cell_type": "markdown",
      "source": [
        "De acuerdo con el autor del dataset, el campo **preferred_listening_content** hace referencia a ¿Qué prefieren escuchar más los usuarios consultados?.\n",
        "\n",
        "El análisis de este campo no es excluyente a que un usuario solo pueda consumir un formato, cómo música o podcasts.\n",
        "\n",
        "**¿Qué formato prefiere más un usuario en Spotify, considerando su Edad y Género?**\n",
        "\n",
        "> Empezaremos con edades entre 20-35 años."
      ],
      "metadata": {
        "id": "DGzQ8bf12_N4"
      }
    },
    {
      "cell_type": "code",
      "source": [
        "df1 = spotify[spotify['Age'] == '20-35'].reset_index()\n",
        "\n",
        "#dataframe filtrada edades 20-35 años\n",
        "df2 = df1[['Gender', 'preferred_listening_content']]\n",
        "df2"
      ],
      "metadata": {
        "colab": {
          "base_uri": "https://localhost:8080/",
          "height": 424
        },
        "id": "8ISymBJB4lNs",
        "outputId": "141a566d-d729-482f-cdfb-7465732aa4e3"
      },
      "execution_count": null,
      "outputs": [
        {
          "output_type": "execute_result",
          "data": {
            "text/plain": [
              "     Gender preferred_listening_content\n",
              "0    Female                     Podcast\n",
              "1    Female                       Music\n",
              "2    Female                       Music\n",
              "3      Male                       Music\n",
              "4    Female                       Music\n",
              "..      ...                         ...\n",
              "417  Female                       Music\n",
              "418  Female                       Music\n",
              "419  Female                       Music\n",
              "420  Female                       Music\n",
              "421  Female                       Music\n",
              "\n",
              "[422 rows x 2 columns]"
            ],
            "text/html": [
              "\n",
              "  <div id=\"df-ef45af36-98ec-4998-bb81-30d83c9e0629\" class=\"colab-df-container\">\n",
              "    <div>\n",
              "<style scoped>\n",
              "    .dataframe tbody tr th:only-of-type {\n",
              "        vertical-align: middle;\n",
              "    }\n",
              "\n",
              "    .dataframe tbody tr th {\n",
              "        vertical-align: top;\n",
              "    }\n",
              "\n",
              "    .dataframe thead th {\n",
              "        text-align: right;\n",
              "    }\n",
              "</style>\n",
              "<table border=\"1\" class=\"dataframe\">\n",
              "  <thead>\n",
              "    <tr style=\"text-align: right;\">\n",
              "      <th></th>\n",
              "      <th>Gender</th>\n",
              "      <th>preferred_listening_content</th>\n",
              "    </tr>\n",
              "  </thead>\n",
              "  <tbody>\n",
              "    <tr>\n",
              "      <th>0</th>\n",
              "      <td>Female</td>\n",
              "      <td>Podcast</td>\n",
              "    </tr>\n",
              "    <tr>\n",
              "      <th>1</th>\n",
              "      <td>Female</td>\n",
              "      <td>Music</td>\n",
              "    </tr>\n",
              "    <tr>\n",
              "      <th>2</th>\n",
              "      <td>Female</td>\n",
              "      <td>Music</td>\n",
              "    </tr>\n",
              "    <tr>\n",
              "      <th>3</th>\n",
              "      <td>Male</td>\n",
              "      <td>Music</td>\n",
              "    </tr>\n",
              "    <tr>\n",
              "      <th>4</th>\n",
              "      <td>Female</td>\n",
              "      <td>Music</td>\n",
              "    </tr>\n",
              "    <tr>\n",
              "      <th>...</th>\n",
              "      <td>...</td>\n",
              "      <td>...</td>\n",
              "    </tr>\n",
              "    <tr>\n",
              "      <th>417</th>\n",
              "      <td>Female</td>\n",
              "      <td>Music</td>\n",
              "    </tr>\n",
              "    <tr>\n",
              "      <th>418</th>\n",
              "      <td>Female</td>\n",
              "      <td>Music</td>\n",
              "    </tr>\n",
              "    <tr>\n",
              "      <th>419</th>\n",
              "      <td>Female</td>\n",
              "      <td>Music</td>\n",
              "    </tr>\n",
              "    <tr>\n",
              "      <th>420</th>\n",
              "      <td>Female</td>\n",
              "      <td>Music</td>\n",
              "    </tr>\n",
              "    <tr>\n",
              "      <th>421</th>\n",
              "      <td>Female</td>\n",
              "      <td>Music</td>\n",
              "    </tr>\n",
              "  </tbody>\n",
              "</table>\n",
              "<p>422 rows × 2 columns</p>\n",
              "</div>\n",
              "    <div class=\"colab-df-buttons\">\n",
              "\n",
              "  <div class=\"colab-df-container\">\n",
              "    <button class=\"colab-df-convert\" onclick=\"convertToInteractive('df-ef45af36-98ec-4998-bb81-30d83c9e0629')\"\n",
              "            title=\"Convert this dataframe to an interactive table.\"\n",
              "            style=\"display:none;\">\n",
              "\n",
              "  <svg xmlns=\"http://www.w3.org/2000/svg\" height=\"24px\" viewBox=\"0 -960 960 960\">\n",
              "    <path d=\"M120-120v-720h720v720H120Zm60-500h600v-160H180v160Zm220 220h160v-160H400v160Zm0 220h160v-160H400v160ZM180-400h160v-160H180v160Zm440 0h160v-160H620v160ZM180-180h160v-160H180v160Zm440 0h160v-160H620v160Z\"/>\n",
              "  </svg>\n",
              "    </button>\n",
              "\n",
              "  <style>\n",
              "    .colab-df-container {\n",
              "      display:flex;\n",
              "      gap: 12px;\n",
              "    }\n",
              "\n",
              "    .colab-df-convert {\n",
              "      background-color: #E8F0FE;\n",
              "      border: none;\n",
              "      border-radius: 50%;\n",
              "      cursor: pointer;\n",
              "      display: none;\n",
              "      fill: #1967D2;\n",
              "      height: 32px;\n",
              "      padding: 0 0 0 0;\n",
              "      width: 32px;\n",
              "    }\n",
              "\n",
              "    .colab-df-convert:hover {\n",
              "      background-color: #E2EBFA;\n",
              "      box-shadow: 0px 1px 2px rgba(60, 64, 67, 0.3), 0px 1px 3px 1px rgba(60, 64, 67, 0.15);\n",
              "      fill: #174EA6;\n",
              "    }\n",
              "\n",
              "    .colab-df-buttons div {\n",
              "      margin-bottom: 4px;\n",
              "    }\n",
              "\n",
              "    [theme=dark] .colab-df-convert {\n",
              "      background-color: #3B4455;\n",
              "      fill: #D2E3FC;\n",
              "    }\n",
              "\n",
              "    [theme=dark] .colab-df-convert:hover {\n",
              "      background-color: #434B5C;\n",
              "      box-shadow: 0px 1px 3px 1px rgba(0, 0, 0, 0.15);\n",
              "      filter: drop-shadow(0px 1px 2px rgba(0, 0, 0, 0.3));\n",
              "      fill: #FFFFFF;\n",
              "    }\n",
              "  </style>\n",
              "\n",
              "    <script>\n",
              "      const buttonEl =\n",
              "        document.querySelector('#df-ef45af36-98ec-4998-bb81-30d83c9e0629 button.colab-df-convert');\n",
              "      buttonEl.style.display =\n",
              "        google.colab.kernel.accessAllowed ? 'block' : 'none';\n",
              "\n",
              "      async function convertToInteractive(key) {\n",
              "        const element = document.querySelector('#df-ef45af36-98ec-4998-bb81-30d83c9e0629');\n",
              "        const dataTable =\n",
              "          await google.colab.kernel.invokeFunction('convertToInteractive',\n",
              "                                                    [key], {});\n",
              "        if (!dataTable) return;\n",
              "\n",
              "        const docLinkHtml = 'Like what you see? Visit the ' +\n",
              "          '<a target=\"_blank\" href=https://colab.research.google.com/notebooks/data_table.ipynb>data table notebook</a>'\n",
              "          + ' to learn more about interactive tables.';\n",
              "        element.innerHTML = '';\n",
              "        dataTable['output_type'] = 'display_data';\n",
              "        await google.colab.output.renderOutput(dataTable, element);\n",
              "        const docLink = document.createElement('div');\n",
              "        docLink.innerHTML = docLinkHtml;\n",
              "        element.appendChild(docLink);\n",
              "      }\n",
              "    </script>\n",
              "  </div>\n",
              "\n",
              "\n",
              "<div id=\"df-bd25b4f7-9518-4265-b252-695ba4540554\">\n",
              "  <button class=\"colab-df-quickchart\" onclick=\"quickchart('df-bd25b4f7-9518-4265-b252-695ba4540554')\"\n",
              "            title=\"Suggest charts\"\n",
              "            style=\"display:none;\">\n",
              "\n",
              "<svg xmlns=\"http://www.w3.org/2000/svg\" height=\"24px\"viewBox=\"0 0 24 24\"\n",
              "     width=\"24px\">\n",
              "    <g>\n",
              "        <path d=\"M19 3H5c-1.1 0-2 .9-2 2v14c0 1.1.9 2 2 2h14c1.1 0 2-.9 2-2V5c0-1.1-.9-2-2-2zM9 17H7v-7h2v7zm4 0h-2V7h2v10zm4 0h-2v-4h2v4z\"/>\n",
              "    </g>\n",
              "</svg>\n",
              "  </button>\n",
              "\n",
              "<style>\n",
              "  .colab-df-quickchart {\n",
              "      --bg-color: #E8F0FE;\n",
              "      --fill-color: #1967D2;\n",
              "      --hover-bg-color: #E2EBFA;\n",
              "      --hover-fill-color: #174EA6;\n",
              "      --disabled-fill-color: #AAA;\n",
              "      --disabled-bg-color: #DDD;\n",
              "  }\n",
              "\n",
              "  [theme=dark] .colab-df-quickchart {\n",
              "      --bg-color: #3B4455;\n",
              "      --fill-color: #D2E3FC;\n",
              "      --hover-bg-color: #434B5C;\n",
              "      --hover-fill-color: #FFFFFF;\n",
              "      --disabled-bg-color: #3B4455;\n",
              "      --disabled-fill-color: #666;\n",
              "  }\n",
              "\n",
              "  .colab-df-quickchart {\n",
              "    background-color: var(--bg-color);\n",
              "    border: none;\n",
              "    border-radius: 50%;\n",
              "    cursor: pointer;\n",
              "    display: none;\n",
              "    fill: var(--fill-color);\n",
              "    height: 32px;\n",
              "    padding: 0;\n",
              "    width: 32px;\n",
              "  }\n",
              "\n",
              "  .colab-df-quickchart:hover {\n",
              "    background-color: var(--hover-bg-color);\n",
              "    box-shadow: 0 1px 2px rgba(60, 64, 67, 0.3), 0 1px 3px 1px rgba(60, 64, 67, 0.15);\n",
              "    fill: var(--button-hover-fill-color);\n",
              "  }\n",
              "\n",
              "  .colab-df-quickchart-complete:disabled,\n",
              "  .colab-df-quickchart-complete:disabled:hover {\n",
              "    background-color: var(--disabled-bg-color);\n",
              "    fill: var(--disabled-fill-color);\n",
              "    box-shadow: none;\n",
              "  }\n",
              "\n",
              "  .colab-df-spinner {\n",
              "    border: 2px solid var(--fill-color);\n",
              "    border-color: transparent;\n",
              "    border-bottom-color: var(--fill-color);\n",
              "    animation:\n",
              "      spin 1s steps(1) infinite;\n",
              "  }\n",
              "\n",
              "  @keyframes spin {\n",
              "    0% {\n",
              "      border-color: transparent;\n",
              "      border-bottom-color: var(--fill-color);\n",
              "      border-left-color: var(--fill-color);\n",
              "    }\n",
              "    20% {\n",
              "      border-color: transparent;\n",
              "      border-left-color: var(--fill-color);\n",
              "      border-top-color: var(--fill-color);\n",
              "    }\n",
              "    30% {\n",
              "      border-color: transparent;\n",
              "      border-left-color: var(--fill-color);\n",
              "      border-top-color: var(--fill-color);\n",
              "      border-right-color: var(--fill-color);\n",
              "    }\n",
              "    40% {\n",
              "      border-color: transparent;\n",
              "      border-right-color: var(--fill-color);\n",
              "      border-top-color: var(--fill-color);\n",
              "    }\n",
              "    60% {\n",
              "      border-color: transparent;\n",
              "      border-right-color: var(--fill-color);\n",
              "    }\n",
              "    80% {\n",
              "      border-color: transparent;\n",
              "      border-right-color: var(--fill-color);\n",
              "      border-bottom-color: var(--fill-color);\n",
              "    }\n",
              "    90% {\n",
              "      border-color: transparent;\n",
              "      border-bottom-color: var(--fill-color);\n",
              "    }\n",
              "  }\n",
              "</style>\n",
              "\n",
              "  <script>\n",
              "    async function quickchart(key) {\n",
              "      const quickchartButtonEl =\n",
              "        document.querySelector('#' + key + ' button');\n",
              "      quickchartButtonEl.disabled = true;  // To prevent multiple clicks.\n",
              "      quickchartButtonEl.classList.add('colab-df-spinner');\n",
              "      try {\n",
              "        const charts = await google.colab.kernel.invokeFunction(\n",
              "            'suggestCharts', [key], {});\n",
              "      } catch (error) {\n",
              "        console.error('Error during call to suggestCharts:', error);\n",
              "      }\n",
              "      quickchartButtonEl.classList.remove('colab-df-spinner');\n",
              "      quickchartButtonEl.classList.add('colab-df-quickchart-complete');\n",
              "    }\n",
              "    (() => {\n",
              "      let quickchartButtonEl =\n",
              "        document.querySelector('#df-bd25b4f7-9518-4265-b252-695ba4540554 button');\n",
              "      quickchartButtonEl.style.display =\n",
              "        google.colab.kernel.accessAllowed ? 'block' : 'none';\n",
              "    })();\n",
              "  </script>\n",
              "</div>\n",
              "    </div>\n",
              "  </div>\n"
            ]
          },
          "metadata": {},
          "execution_count": 14
        }
      ]
    },
    {
      "cell_type": "code",
      "source": [
        "#agrupamos por categorías\n",
        "df_edad2035 = df2.groupby(['Gender', 'preferred_listening_content']).size().reset_index(name ='Count')\n",
        "df_edad2035"
      ],
      "metadata": {
        "colab": {
          "base_uri": "https://localhost:8080/",
          "height": 238
        },
        "id": "crtxBA3n9CQA",
        "outputId": "133038fa-2f47-4d04-b528-6248c2978b45"
      },
      "execution_count": null,
      "outputs": [
        {
          "output_type": "execute_result",
          "data": {
            "text/plain": [
              "   Gender preferred_listening_content  Count\n",
              "0  Female                       Music    281\n",
              "1  Female                     Podcast     50\n",
              "2    Male                       Music     77\n",
              "3    Male                     Podcast      7\n",
              "4  Others                       Music      3\n",
              "5  Others                     Podcast      4"
            ],
            "text/html": [
              "\n",
              "  <div id=\"df-a7da5dcf-76f2-4fd9-888c-49133f1787fb\" class=\"colab-df-container\">\n",
              "    <div>\n",
              "<style scoped>\n",
              "    .dataframe tbody tr th:only-of-type {\n",
              "        vertical-align: middle;\n",
              "    }\n",
              "\n",
              "    .dataframe tbody tr th {\n",
              "        vertical-align: top;\n",
              "    }\n",
              "\n",
              "    .dataframe thead th {\n",
              "        text-align: right;\n",
              "    }\n",
              "</style>\n",
              "<table border=\"1\" class=\"dataframe\">\n",
              "  <thead>\n",
              "    <tr style=\"text-align: right;\">\n",
              "      <th></th>\n",
              "      <th>Gender</th>\n",
              "      <th>preferred_listening_content</th>\n",
              "      <th>Count</th>\n",
              "    </tr>\n",
              "  </thead>\n",
              "  <tbody>\n",
              "    <tr>\n",
              "      <th>0</th>\n",
              "      <td>Female</td>\n",
              "      <td>Music</td>\n",
              "      <td>281</td>\n",
              "    </tr>\n",
              "    <tr>\n",
              "      <th>1</th>\n",
              "      <td>Female</td>\n",
              "      <td>Podcast</td>\n",
              "      <td>50</td>\n",
              "    </tr>\n",
              "    <tr>\n",
              "      <th>2</th>\n",
              "      <td>Male</td>\n",
              "      <td>Music</td>\n",
              "      <td>77</td>\n",
              "    </tr>\n",
              "    <tr>\n",
              "      <th>3</th>\n",
              "      <td>Male</td>\n",
              "      <td>Podcast</td>\n",
              "      <td>7</td>\n",
              "    </tr>\n",
              "    <tr>\n",
              "      <th>4</th>\n",
              "      <td>Others</td>\n",
              "      <td>Music</td>\n",
              "      <td>3</td>\n",
              "    </tr>\n",
              "    <tr>\n",
              "      <th>5</th>\n",
              "      <td>Others</td>\n",
              "      <td>Podcast</td>\n",
              "      <td>4</td>\n",
              "    </tr>\n",
              "  </tbody>\n",
              "</table>\n",
              "</div>\n",
              "    <div class=\"colab-df-buttons\">\n",
              "\n",
              "  <div class=\"colab-df-container\">\n",
              "    <button class=\"colab-df-convert\" onclick=\"convertToInteractive('df-a7da5dcf-76f2-4fd9-888c-49133f1787fb')\"\n",
              "            title=\"Convert this dataframe to an interactive table.\"\n",
              "            style=\"display:none;\">\n",
              "\n",
              "  <svg xmlns=\"http://www.w3.org/2000/svg\" height=\"24px\" viewBox=\"0 -960 960 960\">\n",
              "    <path d=\"M120-120v-720h720v720H120Zm60-500h600v-160H180v160Zm220 220h160v-160H400v160Zm0 220h160v-160H400v160ZM180-400h160v-160H180v160Zm440 0h160v-160H620v160ZM180-180h160v-160H180v160Zm440 0h160v-160H620v160Z\"/>\n",
              "  </svg>\n",
              "    </button>\n",
              "\n",
              "  <style>\n",
              "    .colab-df-container {\n",
              "      display:flex;\n",
              "      gap: 12px;\n",
              "    }\n",
              "\n",
              "    .colab-df-convert {\n",
              "      background-color: #E8F0FE;\n",
              "      border: none;\n",
              "      border-radius: 50%;\n",
              "      cursor: pointer;\n",
              "      display: none;\n",
              "      fill: #1967D2;\n",
              "      height: 32px;\n",
              "      padding: 0 0 0 0;\n",
              "      width: 32px;\n",
              "    }\n",
              "\n",
              "    .colab-df-convert:hover {\n",
              "      background-color: #E2EBFA;\n",
              "      box-shadow: 0px 1px 2px rgba(60, 64, 67, 0.3), 0px 1px 3px 1px rgba(60, 64, 67, 0.15);\n",
              "      fill: #174EA6;\n",
              "    }\n",
              "\n",
              "    .colab-df-buttons div {\n",
              "      margin-bottom: 4px;\n",
              "    }\n",
              "\n",
              "    [theme=dark] .colab-df-convert {\n",
              "      background-color: #3B4455;\n",
              "      fill: #D2E3FC;\n",
              "    }\n",
              "\n",
              "    [theme=dark] .colab-df-convert:hover {\n",
              "      background-color: #434B5C;\n",
              "      box-shadow: 0px 1px 3px 1px rgba(0, 0, 0, 0.15);\n",
              "      filter: drop-shadow(0px 1px 2px rgba(0, 0, 0, 0.3));\n",
              "      fill: #FFFFFF;\n",
              "    }\n",
              "  </style>\n",
              "\n",
              "    <script>\n",
              "      const buttonEl =\n",
              "        document.querySelector('#df-a7da5dcf-76f2-4fd9-888c-49133f1787fb button.colab-df-convert');\n",
              "      buttonEl.style.display =\n",
              "        google.colab.kernel.accessAllowed ? 'block' : 'none';\n",
              "\n",
              "      async function convertToInteractive(key) {\n",
              "        const element = document.querySelector('#df-a7da5dcf-76f2-4fd9-888c-49133f1787fb');\n",
              "        const dataTable =\n",
              "          await google.colab.kernel.invokeFunction('convertToInteractive',\n",
              "                                                    [key], {});\n",
              "        if (!dataTable) return;\n",
              "\n",
              "        const docLinkHtml = 'Like what you see? Visit the ' +\n",
              "          '<a target=\"_blank\" href=https://colab.research.google.com/notebooks/data_table.ipynb>data table notebook</a>'\n",
              "          + ' to learn more about interactive tables.';\n",
              "        element.innerHTML = '';\n",
              "        dataTable['output_type'] = 'display_data';\n",
              "        await google.colab.output.renderOutput(dataTable, element);\n",
              "        const docLink = document.createElement('div');\n",
              "        docLink.innerHTML = docLinkHtml;\n",
              "        element.appendChild(docLink);\n",
              "      }\n",
              "    </script>\n",
              "  </div>\n",
              "\n",
              "\n",
              "<div id=\"df-48983fa9-8ada-4b79-bb24-f74e56eb6009\">\n",
              "  <button class=\"colab-df-quickchart\" onclick=\"quickchart('df-48983fa9-8ada-4b79-bb24-f74e56eb6009')\"\n",
              "            title=\"Suggest charts\"\n",
              "            style=\"display:none;\">\n",
              "\n",
              "<svg xmlns=\"http://www.w3.org/2000/svg\" height=\"24px\"viewBox=\"0 0 24 24\"\n",
              "     width=\"24px\">\n",
              "    <g>\n",
              "        <path d=\"M19 3H5c-1.1 0-2 .9-2 2v14c0 1.1.9 2 2 2h14c1.1 0 2-.9 2-2V5c0-1.1-.9-2-2-2zM9 17H7v-7h2v7zm4 0h-2V7h2v10zm4 0h-2v-4h2v4z\"/>\n",
              "    </g>\n",
              "</svg>\n",
              "  </button>\n",
              "\n",
              "<style>\n",
              "  .colab-df-quickchart {\n",
              "      --bg-color: #E8F0FE;\n",
              "      --fill-color: #1967D2;\n",
              "      --hover-bg-color: #E2EBFA;\n",
              "      --hover-fill-color: #174EA6;\n",
              "      --disabled-fill-color: #AAA;\n",
              "      --disabled-bg-color: #DDD;\n",
              "  }\n",
              "\n",
              "  [theme=dark] .colab-df-quickchart {\n",
              "      --bg-color: #3B4455;\n",
              "      --fill-color: #D2E3FC;\n",
              "      --hover-bg-color: #434B5C;\n",
              "      --hover-fill-color: #FFFFFF;\n",
              "      --disabled-bg-color: #3B4455;\n",
              "      --disabled-fill-color: #666;\n",
              "  }\n",
              "\n",
              "  .colab-df-quickchart {\n",
              "    background-color: var(--bg-color);\n",
              "    border: none;\n",
              "    border-radius: 50%;\n",
              "    cursor: pointer;\n",
              "    display: none;\n",
              "    fill: var(--fill-color);\n",
              "    height: 32px;\n",
              "    padding: 0;\n",
              "    width: 32px;\n",
              "  }\n",
              "\n",
              "  .colab-df-quickchart:hover {\n",
              "    background-color: var(--hover-bg-color);\n",
              "    box-shadow: 0 1px 2px rgba(60, 64, 67, 0.3), 0 1px 3px 1px rgba(60, 64, 67, 0.15);\n",
              "    fill: var(--button-hover-fill-color);\n",
              "  }\n",
              "\n",
              "  .colab-df-quickchart-complete:disabled,\n",
              "  .colab-df-quickchart-complete:disabled:hover {\n",
              "    background-color: var(--disabled-bg-color);\n",
              "    fill: var(--disabled-fill-color);\n",
              "    box-shadow: none;\n",
              "  }\n",
              "\n",
              "  .colab-df-spinner {\n",
              "    border: 2px solid var(--fill-color);\n",
              "    border-color: transparent;\n",
              "    border-bottom-color: var(--fill-color);\n",
              "    animation:\n",
              "      spin 1s steps(1) infinite;\n",
              "  }\n",
              "\n",
              "  @keyframes spin {\n",
              "    0% {\n",
              "      border-color: transparent;\n",
              "      border-bottom-color: var(--fill-color);\n",
              "      border-left-color: var(--fill-color);\n",
              "    }\n",
              "    20% {\n",
              "      border-color: transparent;\n",
              "      border-left-color: var(--fill-color);\n",
              "      border-top-color: var(--fill-color);\n",
              "    }\n",
              "    30% {\n",
              "      border-color: transparent;\n",
              "      border-left-color: var(--fill-color);\n",
              "      border-top-color: var(--fill-color);\n",
              "      border-right-color: var(--fill-color);\n",
              "    }\n",
              "    40% {\n",
              "      border-color: transparent;\n",
              "      border-right-color: var(--fill-color);\n",
              "      border-top-color: var(--fill-color);\n",
              "    }\n",
              "    60% {\n",
              "      border-color: transparent;\n",
              "      border-right-color: var(--fill-color);\n",
              "    }\n",
              "    80% {\n",
              "      border-color: transparent;\n",
              "      border-right-color: var(--fill-color);\n",
              "      border-bottom-color: var(--fill-color);\n",
              "    }\n",
              "    90% {\n",
              "      border-color: transparent;\n",
              "      border-bottom-color: var(--fill-color);\n",
              "    }\n",
              "  }\n",
              "</style>\n",
              "\n",
              "  <script>\n",
              "    async function quickchart(key) {\n",
              "      const quickchartButtonEl =\n",
              "        document.querySelector('#' + key + ' button');\n",
              "      quickchartButtonEl.disabled = true;  // To prevent multiple clicks.\n",
              "      quickchartButtonEl.classList.add('colab-df-spinner');\n",
              "      try {\n",
              "        const charts = await google.colab.kernel.invokeFunction(\n",
              "            'suggestCharts', [key], {});\n",
              "      } catch (error) {\n",
              "        console.error('Error during call to suggestCharts:', error);\n",
              "      }\n",
              "      quickchartButtonEl.classList.remove('colab-df-spinner');\n",
              "      quickchartButtonEl.classList.add('colab-df-quickchart-complete');\n",
              "    }\n",
              "    (() => {\n",
              "      let quickchartButtonEl =\n",
              "        document.querySelector('#df-48983fa9-8ada-4b79-bb24-f74e56eb6009 button');\n",
              "      quickchartButtonEl.style.display =\n",
              "        google.colab.kernel.accessAllowed ? 'block' : 'none';\n",
              "    })();\n",
              "  </script>\n",
              "</div>\n",
              "    </div>\n",
              "  </div>\n"
            ]
          },
          "metadata": {},
          "execution_count": 15
        }
      ]
    },
    {
      "cell_type": "code",
      "source": [
        "#torta para las preferencias de consumo en mujeres entre 20-35 años\n",
        "\n",
        "#creación de un diccionario\n",
        "dictionary = {}\n",
        "\n",
        "for index, row in df_edad2035.iterrows():\n",
        "    gender = row['Gender']\n",
        "    preferred_content = row['preferred_listening_content']\n",
        "    count = row['Count']\n",
        "\n",
        "    if gender not in dictionary:\n",
        "        dictionary[gender] = {}\n",
        "\n",
        "    dictionary[gender][preferred_content] = count\n",
        "\n",
        "dictionary['Mujeres'] = dictionary.pop('Female')\n",
        "dictionary['Hombres'] = dictionary.pop('Male')\n",
        "dictionary['Autodenom. Otros'] = dictionary.pop('Others')\n",
        "\n",
        "print(dictionary)"
      ],
      "metadata": {
        "colab": {
          "base_uri": "https://localhost:8080/"
        },
        "id": "XkxAFMxmDUxl",
        "outputId": "ff03b5f2-d4f7-405b-f5fd-c9e64a2df125"
      },
      "execution_count": null,
      "outputs": [
        {
          "output_type": "stream",
          "name": "stdout",
          "text": [
            "{'Mujeres': {'Music': 281, 'Podcast': 50}, 'Hombres': {'Music': 77, 'Podcast': 7}, 'Autodenom. Otros': {'Music': 3, 'Podcast': 4}}\n"
          ]
        }
      ]
    },
    {
      "cell_type": "code",
      "source": [
        "#función para subplots de tortas\n",
        "\n",
        "def mainchart(dictionary):\n",
        "    #Creación del gráfico principal\n",
        "    fig, axs = plt.subplots(2, 2, figsize=(9, 7))\n",
        "    fig.suptitle('Preferencia de contenido por género. Edad: 20-35', fontsize= 16)\n",
        "\n",
        "    row = 0\n",
        "    col = 0\n",
        "\n",
        "    for gender, values in dictionary.items():\n",
        "\n",
        "        #Extracción datos para el gráfico de torta\n",
        "        labels = list(values.keys())\n",
        "        sizes = list(values.values())\n",
        "\n",
        "        #Creación del gráfico de torta en el subplot correspondiente\n",
        "        colors = ['#4682B4', '#F4A460']\n",
        "\n",
        "        axs[row, col].pie(sizes, labels=labels, colors= colors, autopct='%1.1f%%', startangle=140)\n",
        "        axs[row, col].set_title(f'Preferencias para {gender}')\n",
        "\n",
        "        col += 1\n",
        "        if col == 2:\n",
        "            col = 0\n",
        "            row += 1\n",
        "\n",
        "    #Gráfico usuarios Spotify x género\n",
        "    total_values = df2['Gender'].value_counts()\n",
        "    labels_fixed = total_values.index\n",
        "    sizes_fixed = total_values.values\n",
        "    colors = ['#E0D8C0', 'beige', 'gray']\n",
        "\n",
        "    axs[1, 1].pie(sizes_fixed, labels=labels_fixed, colors= colors, autopct= lambda p: f'{int(p * sum(sizes_fixed) / 100)}')\n",
        "    axs[1, 1].set_title(f'Usuarios de Spotify por género')\n",
        "\n",
        "    #Ajustes\n",
        "    plt.tight_layout(rect=[0, 0.03, 1, 0.95])\n",
        "    plt.show()"
      ],
      "metadata": {
        "id": "VPXY1RkJPyMF"
      },
      "execution_count": null,
      "outputs": []
    },
    {
      "cell_type": "code",
      "source": [
        "#Visualización esperada\n",
        "mainchart(dictionary)"
      ],
      "metadata": {
        "colab": {
          "base_uri": "https://localhost:8080/",
          "height": 687
        },
        "id": "kh-46xnyRHZh",
        "outputId": "caa4d6d9-8e28-43cb-a074-517870705483"
      },
      "execution_count": null,
      "outputs": [
        {
          "output_type": "display_data",
          "data": {
            "text/plain": [
              "<Figure size 900x700 with 4 Axes>"
            ],
            "image/png": "[encoded data removed]"
          },
          "metadata": {}
        }
      ]
    },
    {
      "cell_type": "markdown",
      "source": [
        "> Según los datos, los usuarios de Spotify entre 20-35 años utilizan mayoritariamente la plataforma por sus preferencias en música.\n",
        "\n",
        "> Por otra parte, dentro de su grupo muestra, **las mujeres en el mismo rango de edad, prefieren escuchar más podcasts que los hombres**.\n",
        "\n",
        "> No es posible generar conclusiones para los usuarios que se autodenominan \"Otros\", dado el tamaño de la muestra."
      ],
      "metadata": {
        "id": "46CqCPoRf5eE"
      }
    }
  ]
}