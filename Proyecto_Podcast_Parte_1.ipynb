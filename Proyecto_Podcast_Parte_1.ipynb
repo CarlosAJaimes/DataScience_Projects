{
  "nbformat": 4,
  "nbformat_minor": 0,
  "metadata": {
    "colab": {
      "provenance": []
    },
    "kernelspec": {
      "name": "python3",
      "display_name": "Python 3"
    },
    "language_info": {
      "name": "python"
    }
  },
  "cells": [
    {
      "cell_type": "markdown",
      "source": [
        "# *Proyecto Podcast* 🎤 🎧\n",
        "## **Parte 1**"
      ],
      "metadata": {
        "id": "Kp4-PvJys3-0"
      }
    },
    {
      "cell_type": "markdown",
      "source": [
        "Queremos explorar el potencial de crear un podcast como proyecto personal, dejando a través del notebook varias consideraciones que pueden darle enfoque al proyecto (tema y nicho objetivo, por ejemplo) y los análisis dirigidos a encontrar el valor dentro dataset para darnos las mejores resultados.\n",
        "\n",
        "*Partimos de un dataset de Kaggle.com sobre el comportamiento de los usuarios de Spotify, una de las mayores plataformas para consumo de Podcasts en el mundo.*\n",
        "\n",
        "**> ¿Qué otras plataformas podemos explorar?**"
      ],
      "metadata": {
        "id": "9ZJ6fr34P5hD"
      }
    },
    {
      "cell_type": "code",
      "execution_count": null,
      "metadata": {
        "id": "JQOsnaU6PklW"
      },
      "outputs": [],
      "source": [
        "#librerias\n",
        "import pandas as pd\n",
        "import matplotlib.pyplot as plt\n",
        "import seaborn as sns"
      ]
    },
    {
      "cell_type": "code",
      "source": [
        "#dataframe spotify\n",
        "spotify = pd.read_excel('Spotify_data.xlsx')\n",
        "spotify.head()"
      ],
      "metadata": {
        "colab": {
          "base_uri": "https://localhost:8080/",
          "height": 313
        },
        "id": "hy_rW9iJSQN1",
        "outputId": "24eead5a-88a4-4015-aa54-75fd50c4f728"
      },
      "execution_count": null,
      "outputs": [
        {
          "output_type": "execute_result",
          "data": {
            "text/plain": [
              "     Age  Gender spotify_usage_period  \\\n",
              "0  20-35  Female    More than 2 years   \n",
              "1  12-20    Male    More than 2 years   \n",
              "2  35-60  Others   6 months to 1 year   \n",
              "3  20-35  Female    1 year to 2 years   \n",
              "4  20-35  Female    1 year to 2 years   \n",
              "\n",
              "                         spotify_listening_device spotify_subscription_plan  \\\n",
              "0              Smart speakers or voice assistants       Free (ad-supported)   \n",
              "1                              Computer or laptop       Free (ad-supported)   \n",
              "2              Smart speakers or voice assistants       Free (ad-supported)   \n",
              "3  Smartphone, Smart speakers or voice assistants       Free (ad-supported)   \n",
              "4                                      Smartphone       Free (ad-supported)   \n",
              "\n",
              "  premium_sub_willingness          preffered_premium_plan  \\\n",
              "0                     Yes        Family Plan-Rs 179/month   \n",
              "1                     Yes  Individual Plan- Rs 119/ month   \n",
              "2                     Yes        Student Plan-Rs 59/month   \n",
              "3                      No                            None   \n",
              "4                      No                            None   \n",
              "\n",
              "  preferred_listening_content fav_music_genre music_time_slot  \\\n",
              "0                     Podcast          Melody           Night   \n",
              "1                     Podcast             Rap       Afternoon   \n",
              "2                     Podcast             Pop           Night   \n",
              "3                       Music          Melody           Night   \n",
              "4                       Music          Melody           Night   \n",
              "\n",
              "                              music_Influencial_mood  \\\n",
              "0                              Sadness or melancholy   \n",
              "1                       Social gatherings or parties   \n",
              "2                       Relaxation and stress relief   \n",
              "3  Relaxation and stress relief, Social gathering...   \n",
              "4                       Relaxation and stress relief   \n",
              "\n",
              "                           music_lis_frequency           music_expl_method  \\\n",
              "0                                 leisure time                   Playlists   \n",
              "1                              Workout session                   Playlists   \n",
              "2                 Study Hours, While Traveling                   Playlists   \n",
              "3  Office hours, Workout session, leisure time  recommendations, Playlists   \n",
              "4                                 leisure time  recommendations, Playlists   \n",
              "\n",
              "   music_recc_rating     pod_lis_frequency         fav_pod_genre  \\\n",
              "0                  3                 Daily                Comedy   \n",
              "1                  2  Several times a week                Comedy   \n",
              "2                  4           Once a week                Sports   \n",
              "3                  4                 Never                  None   \n",
              "4                  4                Rarely  Lifestyle and Health   \n",
              "\n",
              "  preffered_pod_format     pod_host_preference preffered_pod_duration  \\\n",
              "0            Interview                    Both                   Both   \n",
              "1            Interview                    Both                   None   \n",
              "2            Interview                    None                   Both   \n",
              "3                 None                    None                   None   \n",
              "4        Story telling  Well known individuals                   Both   \n",
              "\n",
              "  pod_variety_satisfaction  \n",
              "0                       Ok  \n",
              "1                Satisfied  \n",
              "2                Satisfied  \n",
              "3                       Ok  \n",
              "4                       Ok  "
            ],
            "text/html": [
              "\n",
              "  <div id=\"df-3d226fd3-afe3-4fc7-8f8d-9505f9f91ee3\" class=\"colab-df-container\">\n",
              "    <div>\n",
              "<style scoped>\n",
              "    .dataframe tbody tr th:only-of-type {\n",
              "        vertical-align: middle;\n",
              "    }\n",
              "\n",
              "    .dataframe tbody tr th {\n",
              "        vertical-align: top;\n",
              "    }\n",
              "\n",
              "    .dataframe thead th {\n",
              "        text-align: right;\n",
              "    }\n",
              "</style>\n",
              "<table border=\"1\" class=\"dataframe\">\n",
              "  <thead>\n",
              "    <tr style=\"text-align: right;\">\n",
              "      <th></th>\n",
              "      <th>Age</th>\n",
              "      <th>Gender</th>\n",
              "      <th>spotify_usage_period</th>\n",
              "      <th>spotify_listening_device</th>\n",
              "      <th>spotify_subscription_plan</th>\n",
              "      <th>premium_sub_willingness</th>\n",
              "      <th>preffered_premium_plan</th>\n",
              "      <th>preferred_listening_content</th>\n",
              "      <th>fav_music_genre</th>\n",
              "      <th>music_time_slot</th>\n",
              "      <th>music_Influencial_mood</th>\n",
              "      <th>music_lis_frequency</th>\n",
              "      <th>music_expl_method</th>\n",
              "      <th>music_recc_rating</th>\n",
              "      <th>pod_lis_frequency</th>\n",
              "      <th>fav_pod_genre</th>\n",
              "      <th>preffered_pod_format</th>\n",
              "      <th>pod_host_preference</th>\n",
              "      <th>preffered_pod_duration</th>\n",
              "      <th>pod_variety_satisfaction</th>\n",
              "    </tr>\n",
              "  </thead>\n",
              "  <tbody>\n",
              "    <tr>\n",
              "      <th>0</th>\n",
              "      <td>20-35</td>\n",
              "      <td>Female</td>\n",
              "      <td>More than 2 years</td>\n",
              "      <td>Smart speakers or voice assistants</td>\n",
              "      <td>Free (ad-supported)</td>\n",
              "      <td>Yes</td>\n",
              "      <td>Family Plan-Rs 179/month</td>\n",
              "      <td>Podcast</td>\n",
              "      <td>Melody</td>\n",
              "      <td>Night</td>\n",
              "      <td>Sadness or melancholy</td>\n",
              "      <td>leisure time</td>\n",
              "      <td>Playlists</td>\n",
              "      <td>3</td>\n",
              "      <td>Daily</td>\n",
              "      <td>Comedy</td>\n",
              "      <td>Interview</td>\n",
              "      <td>Both</td>\n",
              "      <td>Both</td>\n",
              "      <td>Ok</td>\n",
              "    </tr>\n",
              "    <tr>\n",
              "      <th>1</th>\n",
              "      <td>12-20</td>\n",
              "      <td>Male</td>\n",
              "      <td>More than 2 years</td>\n",
              "      <td>Computer or laptop</td>\n",
              "      <td>Free (ad-supported)</td>\n",
              "      <td>Yes</td>\n",
              "      <td>Individual Plan- Rs 119/ month</td>\n",
              "      <td>Podcast</td>\n",
              "      <td>Rap</td>\n",
              "      <td>Afternoon</td>\n",
              "      <td>Social gatherings or parties</td>\n",
              "      <td>Workout session</td>\n",
              "      <td>Playlists</td>\n",
              "      <td>2</td>\n",
              "      <td>Several times a week</td>\n",
              "      <td>Comedy</td>\n",
              "      <td>Interview</td>\n",
              "      <td>Both</td>\n",
              "      <td>None</td>\n",
              "      <td>Satisfied</td>\n",
              "    </tr>\n",
              "    <tr>\n",
              "      <th>2</th>\n",
              "      <td>35-60</td>\n",
              "      <td>Others</td>\n",
              "      <td>6 months to 1 year</td>\n",
              "      <td>Smart speakers or voice assistants</td>\n",
              "      <td>Free (ad-supported)</td>\n",
              "      <td>Yes</td>\n",
              "      <td>Student Plan-Rs 59/month</td>\n",
              "      <td>Podcast</td>\n",
              "      <td>Pop</td>\n",
              "      <td>Night</td>\n",
              "      <td>Relaxation and stress relief</td>\n",
              "      <td>Study Hours, While Traveling</td>\n",
              "      <td>Playlists</td>\n",
              "      <td>4</td>\n",
              "      <td>Once a week</td>\n",
              "      <td>Sports</td>\n",
              "      <td>Interview</td>\n",
              "      <td>None</td>\n",
              "      <td>Both</td>\n",
              "      <td>Satisfied</td>\n",
              "    </tr>\n",
              "    <tr>\n",
              "      <th>3</th>\n",
              "      <td>20-35</td>\n",
              "      <td>Female</td>\n",
              "      <td>1 year to 2 years</td>\n",
              "      <td>Smartphone, Smart speakers or voice assistants</td>\n",
              "      <td>Free (ad-supported)</td>\n",
              "      <td>No</td>\n",
              "      <td>None</td>\n",
              "      <td>Music</td>\n",
              "      <td>Melody</td>\n",
              "      <td>Night</td>\n",
              "      <td>Relaxation and stress relief, Social gathering...</td>\n",
              "      <td>Office hours, Workout session, leisure time</td>\n",
              "      <td>recommendations, Playlists</td>\n",
              "      <td>4</td>\n",
              "      <td>Never</td>\n",
              "      <td>None</td>\n",
              "      <td>None</td>\n",
              "      <td>None</td>\n",
              "      <td>None</td>\n",
              "      <td>Ok</td>\n",
              "    </tr>\n",
              "    <tr>\n",
              "      <th>4</th>\n",
              "      <td>20-35</td>\n",
              "      <td>Female</td>\n",
              "      <td>1 year to 2 years</td>\n",
              "      <td>Smartphone</td>\n",
              "      <td>Free (ad-supported)</td>\n",
              "      <td>No</td>\n",
              "      <td>None</td>\n",
              "      <td>Music</td>\n",
              "      <td>Melody</td>\n",
              "      <td>Night</td>\n",
              "      <td>Relaxation and stress relief</td>\n",
              "      <td>leisure time</td>\n",
              "      <td>recommendations, Playlists</td>\n",
              "      <td>4</td>\n",
              "      <td>Rarely</td>\n",
              "      <td>Lifestyle and Health</td>\n",
              "      <td>Story telling</td>\n",
              "      <td>Well known individuals</td>\n",
              "      <td>Both</td>\n",
              "      <td>Ok</td>\n",
              "    </tr>\n",
              "  </tbody>\n",
              "</table>\n",
              "</div>\n",
              "    <div class=\"colab-df-buttons\">\n",
              "\n",
              "  <div class=\"colab-df-container\">\n",
              "    <button class=\"colab-df-convert\" onclick=\"convertToInteractive('df-3d226fd3-afe3-4fc7-8f8d-9505f9f91ee3')\"\n",
              "            title=\"Convert this dataframe to an interactive table.\"\n",
              "            style=\"display:none;\">\n",
              "\n",
              "  <svg xmlns=\"http://www.w3.org/2000/svg\" height=\"24px\" viewBox=\"0 -960 960 960\">\n",
              "    <path d=\"M120-120v-720h720v720H120Zm60-500h600v-160H180v160Zm220 220h160v-160H400v160Zm0 220h160v-160H400v160ZM180-400h160v-160H180v160Zm440 0h160v-160H620v160ZM180-180h160v-160H180v160Zm440 0h160v-160H620v160Z\"/>\n",
              "  </svg>\n",
              "    </button>\n",
              "\n",
              "  <style>\n",
              "    .colab-df-container {\n",
              "      display:flex;\n",
              "      gap: 12px;\n",
              "    }\n",
              "\n",
              "    .colab-df-convert {\n",
              "      background-color: #E8F0FE;\n",
              "      border: none;\n",
              "      border-radius: 50%;\n",
              "      cursor: pointer;\n",
              "      display: none;\n",
              "      fill: #1967D2;\n",
              "      height: 32px;\n",
              "      padding: 0 0 0 0;\n",
              "      width: 32px;\n",
              "    }\n",
              "\n",
              "    .colab-df-convert:hover {\n",
              "      background-color: #E2EBFA;\n",
              "      box-shadow: 0px 1px 2px rgba(60, 64, 67, 0.3), 0px 1px 3px 1px rgba(60, 64, 67, 0.15);\n",
              "      fill: #174EA6;\n",
              "    }\n",
              "\n",
              "    .colab-df-buttons div {\n",
              "      margin-bottom: 4px;\n",
              "    }\n",
              "\n",
              "    [theme=dark] .colab-df-convert {\n",
              "      background-color: #3B4455;\n",
              "      fill: #D2E3FC;\n",
              "    }\n",
              "\n",
              "    [theme=dark] .colab-df-convert:hover {\n",
              "      background-color: #434B5C;\n",
              "      box-shadow: 0px 1px 3px 1px rgba(0, 0, 0, 0.15);\n",
              "      filter: drop-shadow(0px 1px 2px rgba(0, 0, 0, 0.3));\n",
              "      fill: #FFFFFF;\n",
              "    }\n",
              "  </style>\n",
              "\n",
              "    <script>\n",
              "      const buttonEl =\n",
              "        document.querySelector('#df-3d226fd3-afe3-4fc7-8f8d-9505f9f91ee3 button.colab-df-convert');\n",
              "      buttonEl.style.display =\n",
              "        google.colab.kernel.accessAllowed ? 'block' : 'none';\n",
              "\n",
              "      async function convertToInteractive(key) {\n",
              "        const element = document.querySelector('#df-3d226fd3-afe3-4fc7-8f8d-9505f9f91ee3');\n",
              "        const dataTable =\n",
              "          await google.colab.kernel.invokeFunction('convertToInteractive',\n",
              "                                                    [key], {});\n",
              "        if (!dataTable) return;\n",
              "\n",
              "        const docLinkHtml = 'Like what you see? Visit the ' +\n",
              "          '<a target=\"_blank\" href=https://colab.research.google.com/notebooks/data_table.ipynb>data table notebook</a>'\n",
              "          + ' to learn more about interactive tables.';\n",
              "        element.innerHTML = '';\n",
              "        dataTable['output_type'] = 'display_data';\n",
              "        await google.colab.output.renderOutput(dataTable, element);\n",
              "        const docLink = document.createElement('div');\n",
              "        docLink.innerHTML = docLinkHtml;\n",
              "        element.appendChild(docLink);\n",
              "      }\n",
              "    </script>\n",
              "  </div>\n",
              "\n",
              "\n",
              "<div id=\"df-6d4ea233-455d-42b6-bd47-30b48d196fcf\">\n",
              "  <button class=\"colab-df-quickchart\" onclick=\"quickchart('df-6d4ea233-455d-42b6-bd47-30b48d196fcf')\"\n",
              "            title=\"Suggest charts\"\n",
              "            style=\"display:none;\">\n",
              "\n",
              "<svg xmlns=\"http://www.w3.org/2000/svg\" height=\"24px\"viewBox=\"0 0 24 24\"\n",
              "     width=\"24px\">\n",
              "    <g>\n",
              "        <path d=\"M19 3H5c-1.1 0-2 .9-2 2v14c0 1.1.9 2 2 2h14c1.1 0 2-.9 2-2V5c0-1.1-.9-2-2-2zM9 17H7v-7h2v7zm4 0h-2V7h2v10zm4 0h-2v-4h2v4z\"/>\n",
              "    </g>\n",
              "</svg>\n",
              "  </button>\n",
              "\n",
              "<style>\n",
              "  .colab-df-quickchart {\n",
              "      --bg-color: #E8F0FE;\n",
              "      --fill-color: #1967D2;\n",
              "      --hover-bg-color: #E2EBFA;\n",
              "      --hover-fill-color: #174EA6;\n",
              "      --disabled-fill-color: #AAA;\n",
              "      --disabled-bg-color: #DDD;\n",
              "  }\n",
              "\n",
              "  [theme=dark] .colab-df-quickchart {\n",
              "      --bg-color: #3B4455;\n",
              "      --fill-color: #D2E3FC;\n",
              "      --hover-bg-color: #434B5C;\n",
              "      --hover-fill-color: #FFFFFF;\n",
              "      --disabled-bg-color: #3B4455;\n",
              "      --disabled-fill-color: #666;\n",
              "  }\n",
              "\n",
              "  .colab-df-quickchart {\n",
              "    background-color: var(--bg-color);\n",
              "    border: none;\n",
              "    border-radius: 50%;\n",
              "    cursor: pointer;\n",
              "    display: none;\n",
              "    fill: var(--fill-color);\n",
              "    height: 32px;\n",
              "    padding: 0;\n",
              "    width: 32px;\n",
              "  }\n",
              "\n",
              "  .colab-df-quickchart:hover {\n",
              "    background-color: var(--hover-bg-color);\n",
              "    box-shadow: 0 1px 2px rgba(60, 64, 67, 0.3), 0 1px 3px 1px rgba(60, 64, 67, 0.15);\n",
              "    fill: var(--button-hover-fill-color);\n",
              "  }\n",
              "\n",
              "  .colab-df-quickchart-complete:disabled,\n",
              "  .colab-df-quickchart-complete:disabled:hover {\n",
              "    background-color: var(--disabled-bg-color);\n",
              "    fill: var(--disabled-fill-color);\n",
              "    box-shadow: none;\n",
              "  }\n",
              "\n",
              "  .colab-df-spinner {\n",
              "    border: 2px solid var(--fill-color);\n",
              "    border-color: transparent;\n",
              "    border-bottom-color: var(--fill-color);\n",
              "    animation:\n",
              "      spin 1s steps(1) infinite;\n",
              "  }\n",
              "\n",
              "  @keyframes spin {\n",
              "    0% {\n",
              "      border-color: transparent;\n",
              "      border-bottom-color: var(--fill-color);\n",
              "      border-left-color: var(--fill-color);\n",
              "    }\n",
              "    20% {\n",
              "      border-color: transparent;\n",
              "      border-left-color: var(--fill-color);\n",
              "      border-top-color: var(--fill-color);\n",
              "    }\n",
              "    30% {\n",
              "      border-color: transparent;\n",
              "      border-left-color: var(--fill-color);\n",
              "      border-top-color: var(--fill-color);\n",
              "      border-right-color: var(--fill-color);\n",
              "    }\n",
              "    40% {\n",
              "      border-color: transparent;\n",
              "      border-right-color: var(--fill-color);\n",
              "      border-top-color: var(--fill-color);\n",
              "    }\n",
              "    60% {\n",
              "      border-color: transparent;\n",
              "      border-right-color: var(--fill-color);\n",
              "    }\n",
              "    80% {\n",
              "      border-color: transparent;\n",
              "      border-right-color: var(--fill-color);\n",
              "      border-bottom-color: var(--fill-color);\n",
              "    }\n",
              "    90% {\n",
              "      border-color: transparent;\n",
              "      border-bottom-color: var(--fill-color);\n",
              "    }\n",
              "  }\n",
              "</style>\n",
              "\n",
              "  <script>\n",
              "    async function quickchart(key) {\n",
              "      const quickchartButtonEl =\n",
              "        document.querySelector('#' + key + ' button');\n",
              "      quickchartButtonEl.disabled = true;  // To prevent multiple clicks.\n",
              "      quickchartButtonEl.classList.add('colab-df-spinner');\n",
              "      try {\n",
              "        const charts = await google.colab.kernel.invokeFunction(\n",
              "            'suggestCharts', [key], {});\n",
              "      } catch (error) {\n",
              "        console.error('Error during call to suggestCharts:', error);\n",
              "      }\n",
              "      quickchartButtonEl.classList.remove('colab-df-spinner');\n",
              "      quickchartButtonEl.classList.add('colab-df-quickchart-complete');\n",
              "    }\n",
              "    (() => {\n",
              "      let quickchartButtonEl =\n",
              "        document.querySelector('#df-6d4ea233-455d-42b6-bd47-30b48d196fcf button');\n",
              "      quickchartButtonEl.style.display =\n",
              "        google.colab.kernel.accessAllowed ? 'block' : 'none';\n",
              "    })();\n",
              "  </script>\n",
              "</div>\n",
              "    </div>\n",
              "  </div>\n"
            ]
          },
          "metadata": {},
          "execution_count": 4
        }
      ]
    },
    {
      "cell_type": "code",
      "source": [
        "#Análisis inicial\n",
        "spotify.shape #filas x columnas"
      ],
      "metadata": {
        "colab": {
          "base_uri": "https://localhost:8080/"
        },
        "id": "1wLn0VifS8Au",
        "outputId": "e06a866d-79db-4003-e265-d4756ad82cbd"
      },
      "execution_count": null,
      "outputs": [
        {
          "output_type": "execute_result",
          "data": {
            "text/plain": [
              "(520, 20)"
            ]
          },
          "metadata": {},
          "execution_count": 5
        }
      ]
    },
    {
      "cell_type": "code",
      "source": [
        "#valores nan y tipos de dato\n",
        "spotify.info()"
      ],
      "metadata": {
        "colab": {
          "base_uri": "https://localhost:8080/"
        },
        "id": "Ai4Le0SCTg2f",
        "outputId": "6a2e5de0-6549-4fd4-baab-8b2ed9e49613"
      },
      "execution_count": null,
      "outputs": [
        {
          "output_type": "stream",
          "name": "stdout",
          "text": [
            "<class 'pandas.core.frame.DataFrame'>\n",
            "RangeIndex: 520 entries, 0 to 519\n",
            "Data columns (total 20 columns):\n",
            " #   Column                       Non-Null Count  Dtype \n",
            "---  ------                       --------------  ----- \n",
            " 0   Age                          520 non-null    object\n",
            " 1   Gender                       520 non-null    object\n",
            " 2   spotify_usage_period         520 non-null    object\n",
            " 3   spotify_listening_device     520 non-null    object\n",
            " 4   spotify_subscription_plan    520 non-null    object\n",
            " 5   premium_sub_willingness      520 non-null    object\n",
            " 6   preffered_premium_plan       520 non-null    object\n",
            " 7   preferred_listening_content  520 non-null    object\n",
            " 8   fav_music_genre              520 non-null    object\n",
            " 9   music_time_slot              520 non-null    object\n",
            " 10  music_Influencial_mood       520 non-null    object\n",
            " 11  music_lis_frequency          520 non-null    object\n",
            " 12  music_expl_method            520 non-null    object\n",
            " 13  music_recc_rating            520 non-null    int64 \n",
            " 14  pod_lis_frequency            520 non-null    object\n",
            " 15  fav_pod_genre                520 non-null    object\n",
            " 16  preffered_pod_format         520 non-null    object\n",
            " 17  pod_host_preference          520 non-null    object\n",
            " 18  preffered_pod_duration       520 non-null    object\n",
            " 19  pod_variety_satisfaction     520 non-null    object\n",
            "dtypes: int64(1), object(19)\n",
            "memory usage: 81.4+ KB\n"
          ]
        }
      ]
    },
    {
      "cell_type": "markdown",
      "source": [
        "Primeras observaciones:\n",
        "\n",
        "*> El conjunto de datos tiene 520 filas y 20 columnas*\n",
        "\n",
        "*> Ninguna columna tiene valores nulos*\n",
        "\n",
        "*> Hay campos que están relacionados con el comportamiento de consumo de música, lo cual no hace parte de nuestro análisis actual*\n",
        "\n",
        "*> La mayoría de los campos son de valores categóricos*"
      ],
      "metadata": {
        "id": "oSvV7O7qT3aK"
      }
    },
    {
      "cell_type": "markdown",
      "source": [
        "**Exploración por campo de valor**"
      ],
      "metadata": {
        "id": "FKhCxG5IVbIa"
      }
    },
    {
      "cell_type": "code",
      "source": [
        "#Age\n",
        "nrangos = spotify['Age'].nunique()\n",
        "\n",
        "print(f'El dataset incluye {nrangos} rangos de edad:')\n",
        "\n",
        "#rangos\n",
        "'''rangos = spotify['Age'].unique()\n",
        "for rango in rangos:\n",
        "  print(rango)'''\n",
        "\n",
        "#Distribución del campo 'Age'\n",
        "plt.hist(spotify['Age'], color='green', edgecolor='darkgray')\n",
        "plt.xlabel('Rango de edad')\n",
        "plt.ylabel('Frecuencia')\n",
        "plt.title(f'Histograma de Edades');"
      ],
      "metadata": {
        "colab": {
          "base_uri": "https://localhost:8080/",
          "height": 490
        },
        "id": "woXB8TOeVfNa",
        "outputId": "0f7329bf-8989-4ca0-bbaf-4a85cb8e4220"
      },
      "execution_count": null,
      "outputs": [
        {
          "output_type": "stream",
          "name": "stdout",
          "text": [
            "El dataset incluye 5 rangos de edad:\n"
          ]
        },
        {
          "output_type": "display_data",
          "data": {
            "text/plain": [
              "<Figure size 640x480 with 1 Axes>"
            ],
            "image/png": "[encoded data removed]"
          },
          "metadata": {}
        }
      ]
    },
    {
      "cell_type": "markdown",
      "source": [
        "+400/520 usuarios de Spotify captados se encuentran en el rango entre 20-35 años, intervalo objetivo de nuestro análisis para un potencial proyecto.\n",
        "\n",
        "**> ¿Con esta muestra de datos es posible afirmar que, el mayor porcentaje de usuarios de Spotify están dentro de estas edades?**"
      ],
      "metadata": {
        "id": "dJRB8W-QYxWm"
      }
    },
    {
      "cell_type": "code",
      "source": [
        "import numpy as np"
      ],
      "metadata": {
        "id": "By-H-V0CatUY"
      },
      "execution_count": null,
      "outputs": []
    },
    {
      "cell_type": "code",
      "source": [
        "#Gender\n",
        "#spotify.columns\n",
        "\n",
        "generos = spotify['Gender'].unique()\n",
        "print(f'Los géneros identificados en el dataset son: {generos}')"
      ],
      "metadata": {
        "colab": {
          "base_uri": "https://localhost:8080/"
        },
        "id": "SYzp3hOAZmm5",
        "outputId": "7a95551c-028d-45c5-b422-c2dc5e1c9edb"
      },
      "execution_count": null,
      "outputs": [
        {
          "output_type": "stream",
          "name": "stdout",
          "text": [
            "Los géneros identificados en el dataset son: ['Female' 'Male' 'Others']\n"
          ]
        }
      ]
    },
    {
      "cell_type": "code",
      "source": [
        "#Gender vs. Age\n",
        "sns.histplot(data=spotify, x=\"Age\", hue=\"Gender\", multiple=\"stack\");"
      ],
      "metadata": {
        "colab": {
          "base_uri": "https://localhost:8080/",
          "height": 449
        },
        "id": "T38XDvPmbTr0",
        "outputId": "32c2bf81-4ffa-41fb-d07c-e1684422c433"
      },
      "execution_count": null,
      "outputs": [
        {
          "output_type": "display_data",
          "data": {
            "text/plain": [
              "<Figure size 640x480 with 1 Axes>"
            ],
            "image/png": "[encoded data removed]"
          },
          "metadata": {}
        }
      ]
    },
    {
      "cell_type": "markdown",
      "source": [
        "La proporción de mujeres es considerablemente mayor para todos los rangos de edad, puntualmente para uno de los rangos objetivo, entre 20-35 años.\n",
        "\n",
        "Para un potencial proyecto de Podcast, en esta plataforma inicialmente, **sería relevante explorar las preferencias de consumo de las mujeres**."
      ],
      "metadata": {
        "id": "i4olwZtBfeWs"
      }
    },
    {
      "cell_type": "code",
      "source": [
        "#spotify_usage_period\n",
        "#spotify.columns\n",
        "spotify['spotify_usage_period'].unique()"
      ],
      "metadata": {
        "colab": {
          "base_uri": "https://localhost:8080/"
        },
        "id": "gWaehAWwggHw",
        "outputId": "529c5cd5-2e72-45a2-d07d-dcddb5bd184a"
      },
      "execution_count": null,
      "outputs": [
        {
          "output_type": "execute_result",
          "data": {
            "text/plain": [
              "array(['More than 2 years', '6 months to 1 year', '1 year to 2 years',\n",
              "       'Less than 6 months'], dtype=object)"
            ]
          },
          "metadata": {},
          "execution_count": 11
        }
      ]
    },
    {
      "cell_type": "markdown",
      "source": [
        "El tiempo de uso de la plataforma, relacionado con el formato 'Podcast', podría darnos un indicio de que tipo de proyecto podría ser más efectivo para la muestra; como ejemplo, se podría proponer un podcast con una duración máxima a la que la mayoría de usuarios consumen este formato; lo anterior, traducido en potencial consumo y en generación de ganancias.\n",
        "\n",
        "**Este análisis está inconcluso aún.**"
      ],
      "metadata": {
        "id": "Fv09dUaBhXwX"
      }
    },
    {
      "cell_type": "code",
      "source": [
        "#spotify_listening_device\n",
        "#spotify.columns\n",
        "\n",
        "dispositivos = spotify['spotify_listening_device'].unique()\n",
        "for dispo in dispositivos:\n",
        "  print(dispo)"
      ],
      "metadata": {
        "colab": {
          "base_uri": "https://localhost:8080/"
        },
        "id": "Tno8-pQxiIkr",
        "outputId": "ab967d96-709c-4488-861f-d089bccb1923"
      },
      "execution_count": null,
      "outputs": [
        {
          "output_type": "stream",
          "name": "stdout",
          "text": [
            "Smart speakers or voice assistants\n",
            "Computer or laptop\n",
            "Smartphone, Smart speakers or voice assistants\n",
            "Smartphone\n",
            "Smartphone, Computer or laptop\n",
            "Smartphone, Computer or laptop, Smart speakers or voice assistants\n",
            "Smartphone, Wearable devices\n",
            "Smartphone, Computer or laptop, Wearable devices\n",
            "Computer or laptop, Wearable devices\n",
            "Smartphone, Computer or laptop, Smart speakers or voice assistants, Wearable devices\n",
            "Wearable devices\n",
            "Smartphone, Smart speakers or voice assistants, Wearable devices\n",
            "Computer or laptop, Smart speakers or voice assistants\n",
            "Computer or laptop, Smart speakers or voice assistants, Wearable devices\n",
            "Smart speakers or voice assistants, Wearable devices\n"
          ]
        }
      ]
    },
    {
      "cell_type": "markdown",
      "source": [
        "El campo de valores presenta 15 diferentes categorías; algunas pueden agrupar más de un tipo de dispositivo, por lo que es necesario evaluar a profundidad soluciones efectivas para su adecuado análisis.\n",
        "\n",
        "**Este análisis está inconcluso aún**"
      ],
      "metadata": {
        "id": "Hf3cyv3mkRCA"
      }
    },
    {
      "cell_type": "code",
      "source": [
        "#spotify_subscription_plan\n",
        "#spotify.columns\n",
        "\n",
        "planes = spotify['spotify_subscription_plan'].value_counts()\n",
        "planes"
      ],
      "metadata": {
        "colab": {
          "base_uri": "https://localhost:8080/"
        },
        "id": "M2GpNswCkwFM",
        "outputId": "05740517-7edd-4003-8d9f-51e479c8f8bb"
      },
      "execution_count": null,
      "outputs": [
        {
          "output_type": "execute_result",
          "data": {
            "text/plain": [
              "Free (ad-supported)            424\n",
              "Premium (paid subscription)     96\n",
              "Name: spotify_subscription_plan, dtype: int64"
            ]
          },
          "metadata": {},
          "execution_count": 13
        }
      ]
    },
    {
      "cell_type": "markdown",
      "source": [
        "Esta columna nos permite evidenciar la proporción de usuarios con suscripción Premium a Spotify, la cual es considerablemente menor, cercana al 20% del total de inputs.\n",
        "\n",
        "Esto valores llevan a reflexionar lo siguiente, como usuarios:\n",
        "\n",
        "**> ¿Qué implicaciones traería para un usuario 'Free' o 'Premium' el querer acceder a un podcast de la plataforma? ¿Tiene acceso libre a todo el contenido, requiere pagar alguna suscripción general o individual?**\n",
        "\n",
        "Y cómo creador del formato:\n",
        "\n",
        "**> ¿De qué fuentes vienen las ganancias de un podcast en Spotify? ¿Anuncios, cómo cuando pasamos canciones siendo 'Free', por ejemplo?**"
      ],
      "metadata": {
        "id": "tBBpO_wzoGCc"
      }
    },
    {
      "cell_type": "markdown",
      "source": [
        "**Continuará** 🚧 🧑 🎧"
      ],
      "metadata": {
        "id": "Tj6t2I9hrVch"
      }
    }
  ]
}